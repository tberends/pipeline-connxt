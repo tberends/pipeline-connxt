{
 "cells": [
  {
   "attachments": {},
   "cell_type": "markdown",
   "id": "844aa82e-b09d-4278-8bda-6c2274d38616",
   "metadata": {},
   "source": [
    "## Monitoring Vibration Data\n",
    "Notebook to manually monitor and assess the vibration data from the IoT Connxt platform and the IFM sensors. The notebook performs the following steps:\n",
    "- reading necessary packages and authenticating\n",
    "- retrieving time series objects\n",
    "- retrieving recent time series\n",
    "- visualizing the data"
   ]
  },
  {
   "cell_type": "code",
   "execution_count": null,
   "id": "ff52f5d0-5f7d-4a20-9077-9a54939caa6a",
   "metadata": {},
   "outputs": [],
   "source": [
    "import os\n",
    "import requests\n",
    "from datetime import datetime\n",
    "import pandas as pd\n",
    "from dotenv import load_dotenv\n",
    "import matplotlib.pyplot as plt\n",
    "from dotenv import load_dotenv"
   ]
  },
  {
   "attachments": {},
   "cell_type": "markdown",
   "id": "1f7854f9-dcb6-492b-8f12-b2fbd8ffd1c2",
   "metadata": {},
   "source": [
    "Authenticate yourself to retrieve data in Lizard. For this, you need an API key from Lizard."
   ]
  },
  {
   "cell_type": "code",
   "execution_count": null,
   "id": "c9832cc4-eb46-4ddd-a474-2fd5da561fc5",
   "metadata": {},
   "outputs": [],
   "source": [
    "# Get API key from env file\n",
    "load_dotenv()\n",
    "\n",
    "username = '__key__'\n",
    "password = os.getenv(\"LIZARD_API_KEY\")\n",
    "json_headers = {\n",
    "            \"username\": username,\n",
    "            \"password\": password,\n",
    "            \"Content-Type\": \"application/json\",\n",
    "        }"
   ]
  },
  {
   "attachments": {},
   "cell_type": "markdown",
   "id": "24912eb4-8452-48ad-a4c1-acf668646d6b",
   "metadata": {},
   "source": [
    "### Retrieve time series objects from pumping station Zuidbroek"
   ]
  },
  {
   "cell_type": "code",
   "execution_count": null,
   "id": "01c88a2f-aed4-42b8-acec-d4a41c7b0504",
   "metadata": {},
   "outputs": [],
   "source": [
    "# Define gemaal based on naam in Damo\n",
    "gemaal = \"Rg. Zuidbroek\"\n",
    "\n",
    "url = \"https://demo.lizard.net/api/v4/timeseries/?location__name__startswith=\"+gemaal\n",
    "\n",
    "# Get the data from the API\n",
    "print(url)\n",
    "print(requests.get(url,headers=json_headers,params= {'page_size':'10000'}).json())\n",
    "querydata = requests.get(url,headers=json_headers,params= {'page_size':'10000'}).json()['results']\n",
    "timeseries_list = pd.DataFrame(querydata)\n"
   ]
  },
  {
   "attachments": {},
   "cell_type": "markdown",
   "id": "c887085d-9117-4bc0-8e75-b7322cc598db",
   "metadata": {},
   "source": [
    "### Retrieving time series and displaying the latest observation in a table\n"
   ]
  },
  {
   "attachments": {},
   "cell_type": "markdown",
   "id": "a153ed48-dbd1-45f6-9c60-a241d26783df",
   "metadata": {},
   "source": [
    "Retrieve the latest value for all time series objects found for pumping station Zuidbroek and present it in a table based on recency."
   ]
  },
  {
   "cell_type": "code",
   "execution_count": null,
   "id": "3098ca95",
   "metadata": {},
   "outputs": [],
   "source": [
    "timeseries_list['location'] = timeseries_list['location'].apply(lambda x: x['name'])\n",
    "timeseries_list['last_modified'] = pd.to_datetime(timeseries_list['last_modified'])\n",
    "timeseries_list = timeseries_list.sort_values(by='last_modified', ascending=False)\n",
    "timeseries_list['last_modified'] = timeseries_list['last_modified'].dt.tz_convert('CET').dt.strftime('%Y-%m-%d %H:%M:%S')\n",
    "timeseries_list = timeseries_list[['uuid','location', 'name', 'last_modified', 'last_value']]\n",
    "timeseries_list"
   ]
  },
  {
   "cell_type": "markdown",
   "id": "c293d010",
   "metadata": {},
   "source": [
    "### Visualizing Data\n",
    "Use the UUID of a time series to retrieve and display the data for this parameter from the past week in a graph."
   ]
  },
  {
   "cell_type": "code",
   "execution_count": null,
   "id": "bd1e232b",
   "metadata": {},
   "outputs": [],
   "source": [
    "# make list of uuids for all rows in timeserieslist with sensor in the name\n",
    "uuids = timeseries_list[timeseries_list['location'].str.contains('IoT sensor', case=False)]['uuid'].tolist()\n",
    "uuids = timeseries_list[timeseries_list['location'].str.contains('sensor', case=False)]['uuid'].tolist()\n",
    "\n",
    "start = (datetime.now() - pd.Timedelta(days=14)).strftime('%Y-%m-%dT%H:%M:%SZ')\n",
    "end = (datetime.now() - pd.Timedelta(days=0)).strftime('%Y-%m-%dT%H:%M:%SZ')\n",
    "base_url = \"https://hhnk.lizard.net/api/v4/timeseries/{}/events/\"\n",
    "\n",
    "all_counts_list = []\n",
    "\n",
    "for uuid in uuids:\n",
    "    url = base_url.format(uuid)\n",
    "    time_series_events = pd.DataFrame(requests.get(url=url, headers=json_headers, params={'start': start, 'end': end, 'fields': 'value', 'page_size': '10000000'}).json()['results'])\n",
    "    \n",
    "    # Process the time series events\n",
    "    time_series_events['time'] = time_series_events['time'].str.replace(r'\\.\\d+Z', 'Z', regex=True) # remove milliseconds\n",
    "    time_series_events['timestamp'] = pd.to_datetime(time_series_events['time'])\n",
    "    time_series_events['date'] = time_series_events['timestamp'].dt.date\n",
    "    time_series_events['count'] = 1\n",
    "    ts_count = time_series_events.groupby('date').count()\n",
    "    ts_count = ts_count[['count']]\n",
    "    # Get based on uuid the location from timeseries_list and use as column name\n",
    "    location = timeseries_list[timeseries_list['uuid'] == uuid]['location'].values[0]\n",
    "    ts_count.columns = [location]\n",
    "    \n",
    "    all_counts_list.append(ts_count)\n",
    "\n",
    "# Merge all counts into one DataFrame\n",
    "all_counts_df = pd.concat(all_counts_list, axis=1)\n",
    "all_counts_df = all_counts_df.iloc[1:]\n",
    "all_counts_df = all_counts_df.sort_index()\n",
    "all_counts_df.columns = all_counts_df.columns.str.replace('Rg. Zuidbroek ', '')\n",
    "all_counts_df.columns = all_counts_df.columns.str.replace('Rg. Zuidbroek,', '')\n",
    "\n",
    "# Show table with columns as rows and dates as columns and columns descending based on date\n",
    "counts_df = all_counts_df.T\n",
    "counts_df = counts_df.sort_index(ascending=True)\n",
    "counts_df.index.name = 'location'\n",
    "counts_df"
   ]
  },
  {
   "cell_type": "code",
   "execution_count": null,
   "id": "fcbe55df-e6d9-4db1-abe1-d8c467793c3f",
   "metadata": {
    "tags": []
   },
   "outputs": [],
   "source": [
    "fig, axes = plt.subplots(nrows=13, ncols=2, figsize=(15, 30))\n",
    "axes = axes.flatten()\n",
    "\n",
    "for i, column in enumerate(all_counts_df.columns):\n",
    "    all_counts_df[column].plot(ax=axes[i], title=column)\n",
    "    axes[i].set_xlabel('Date')\n",
    "    axes[i].set_ylabel('Count')\n",
    "    axes[i].get_legend().remove()\n",
    "\n",
    "plt.tight_layout()\n",
    "plt.show()\n"
   ]
  }
 ],
 "metadata": {
  "kernelspec": {
   "display_name": "predmaint",
   "language": "python",
   "name": "python3"
  },
  "language_info": {
   "codemirror_mode": {
    "name": "ipython",
    "version": 3
   },
   "file_extension": ".py",
   "mimetype": "text/x-python",
   "name": "python",
   "nbconvert_exporter": "python",
   "pygments_lexer": "ipython3",
   "version": "3.13.1"
  }
 },
 "nbformat": 4,
 "nbformat_minor": 5
}
